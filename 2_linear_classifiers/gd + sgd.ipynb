{
 "cells": [
  {
   "cell_type": "markdown",
   "metadata": {},
   "source": [
    "$$L(w) = \\sum_{i=0}^n{\\ln(1+\\exp({-w}^Tx_iy_i))} + \\gamma \\left \\| w \\right \\|_1 $$\n",
    "$$L'(w) = \\sum _{i=1}^{n}\\frac{-x_i*y_i * \\exp(-w^Tx_iy_i)}{1+\\exp(-w^Tx_iy_i)} + \\gamma * sign(w_i)$$\n",
    "                                \n",
    "Gradient Descend : $$w = w - \\eta * \\sum _{i=1}^{n}\\nabla L_i(w)$$\n",
    "                                Stohastic Gradient Descend, i - random item\n",
    "$$w = w - \\eta * \\nabla L_i(w)$$\n"
   ]
  },
  {
   "cell_type": "code",
   "execution_count": 1,
   "metadata": {
    "collapsed": true
   },
   "outputs": [],
   "source": [
    "import math\n",
    "import numpy as np\n",
    "from numpy import random as rnd\n",
    "import sklearn.preprocessing as preproc\n",
    "import pylab as pl\n",
    "from sklearn.utils import shuffle\n",
    "from numpy import random as rnd\n",
    "import pickle as pick\n",
    "from sklearn import linear_model\n",
    "import sklearn\n",
    "from sklearn.metrics import confusion_matrix\n",
    "from sklearn.metrics import roc_curve, auc\n",
    "%matplotlib inline"
   ]
  },
  {
   "cell_type": "code",
   "execution_count": 2,
   "metadata": {
    "collapsed": true
   },
   "outputs": [],
   "source": [
    "def calculate_loss(x, y, w, gamma = 0):\n",
    "    loss = 0.0\n",
    "    for i in range(len(x)):\n",
    "        exponent = 0.0\n",
    "        temp = 0.0\n",
    "        for j in range(len(x[i])):\n",
    "            exponent += x[i][j]*w[j]\n",
    "        exponent = exponent * y[i]\n",
    "        loss += np.log(1+np.exp(-1*exponent))\n",
    "    norm =0.0\n",
    "    for j in range(len(w)):\n",
    "        norm += abs(w[j])\n",
    "    loss += gamma*norm\n",
    "    return loss"
   ]
  },
  {
   "cell_type": "code",
   "execution_count": 3,
   "metadata": {
    "collapsed": false
   },
   "outputs": [],
   "source": [
    "def calculate_derivative_in_one_point(x,y,w,i,gamma = 0):\n",
    "    result = 0.0\n",
    "    temp = 0.0\n",
    "    exponent = -1*x[i]*w[i]*y\n",
    "    xy = -1 * x[i]*y\n",
    "    result += (1/(1+np.exp(exponent)))*np.exp(exponent)*xy\n",
    "    return result"
   ]
  },
  {
   "cell_type": "code",
   "execution_count": 4,
   "metadata": {
    "collapsed": true
   },
   "outputs": [],
   "source": [
    "def calculate_vector_of_derivatives(x,y,w,gamma=0):\n",
    "    vector = list()\n",
    "    for j in range(len(w)):\n",
    "        temp = 0\n",
    "        for i in range(len(x)):\n",
    "            temp += calculate_derivative_in_one_point(x[i],y[i],w,j,gamma)\n",
    "        temp += gamma*np.sign(w[j])\n",
    "        vector.append(temp)\n",
    "    return vector"
   ]
  },
  {
   "cell_type": "code",
   "execution_count": 82,
   "metadata": {
    "collapsed": false
   },
   "outputs": [],
   "source": [
    "def GD(X_train, y_train, max_epoch = 1000, alpha = 0.1, gamma = 0, tol = 0.1):\n",
    "    n = len(X_train)\n",
    "    dimensions = len(X_train[0])\n",
    "    w = np.zeros(dimensions)\n",
    "    l = list()\n",
    "    old_l = calculate_loss(X_train, y_train, w,gamma)\n",
    "    new_l = 0\n",
    "    epoch = 0\n",
    "    l.append(old_l)\n",
    "    while (abs(old_l-new_l)>tol and epoch < max_epoch):\n",
    "        old_l = new_l\n",
    "        gradient = calculate_vector_of_derivatives(X_train, y_train, w,gamma)\n",
    "        for i in range(dimensions):\n",
    "            w[i] = w[i] - alpha*gradient[i]/n\n",
    "        epoch += 1\n",
    "        new_l = calculate_loss(X_train, y_train, w,gamma)\n",
    "        l.append(new_l)\n",
    "    return w, l"
   ]
  },
  {
   "cell_type": "code",
   "execution_count": 110,
   "metadata": {
    "collapsed": true
   },
   "outputs": [],
   "source": [
    "def SGD(X_train, y_train, max_epoch = 1000, alpha = 0.1, gamma = 0):\n",
    "    n = len(X_train)\n",
    "    dimensions = len(X_train[0])\n",
    "    w = np.zeros(dimensions)\n",
    "    l = list()\n",
    "    old_l = calculate_loss(X_train, y_train, w)\n",
    "    new_l = 0\n",
    "    epoch = 0\n",
    "    l.append(old_l)\n",
    "    X_train, y_train = shuffle(X_train, y_train)\n",
    "    while (epoch < n/2 and epoch < max_epoch):\n",
    "        alpha = alpha * 0.98\n",
    "        old_l = new_l\n",
    "        i = rnd.randint(0,n)\n",
    "        gradient = np.zeros(dimensions)\n",
    "        for j in range(dimensions):\n",
    "            gradient[j] += calculate_derivative_in_one_point(X_train[i],y_train[i],w,j)            \n",
    "            w[j] = w[j] - (alpha)*gradient[j]\n",
    "        epoch += 1\n",
    "        new_l = calculate_loss(X_train, y_train, w)\n",
    "        l.append(new_l)\n",
    "    return w, l"
   ]
  },
  {
   "cell_type": "code",
   "execution_count": 228,
   "metadata": {
    "collapsed": false
   },
   "outputs": [
    {
     "data": {
      "text/plain": [
       "<matplotlib.collections.PathCollection at 0x11651ba90>"
      ]
     },
     "execution_count": 228,
     "metadata": {},
     "output_type": "execute_result"
    },
    {
     "data": {
      "image/png": "[encoded data removed]",
      "text/plain": [
       "<matplotlib.figure.Figure at 0x1153ff1d0>"
      ]
     },
     "metadata": {},
     "output_type": "display_data"
    }
   ],
   "source": [
    "arr1 = rnd.multivariate_normal([3,3],np.eye(2),100)\n",
    "arr2 = rnd.multivariate_normal([1,1],np.eye(2),100)\n",
    "X = np.concatenate((arr1,arr2))\n",
    "X = np.insert(X,1,1,axis=1)\n",
    "pl.scatter(arr1[:,0],arr1[:,1])\n",
    "pl.scatter(arr2[:,0],arr2[:,1], c='r')"
   ]
  },
  {
   "cell_type": "code",
   "execution_count": 229,
   "metadata": {
    "collapsed": false
   },
   "outputs": [
    {
     "data": {
      "text/plain": [
       "<matplotlib.legend.Legend at 0x116550c50>"
      ]
     },
     "execution_count": 229,
     "metadata": {},
     "output_type": "execute_result"
    },
    {
     "data": {
      "image/png": "[encoded data removed]",
      "text/plain": [
       "<matplotlib.figure.Figure at 0x11652a350>"
      ]
     },
     "metadata": {},
     "output_type": "display_data"
    }
   ],
   "source": [
    "labels = np.concatenate((np.zeros(100), np.ones(100)))\n",
    "labels[labels==0] = -1 \n",
    "scaler_categorical = preproc.StandardScaler().fit(X)\n",
    "X = scaler_categorical.transform(X)\n",
    "\n",
    "w_gd, l_gd = GD(X,labels)\n",
    "w_sgd, l_sgd = SGD(X,labels)\n",
    "pl.plot(l_gd, label = 'Loss GD')\n",
    "pl.plot(l_sgd, label = 'Loss SGD ', c='r')\n",
    "pl.xlabel('Epoch number')\n",
    "pl.ylabel('L')\n",
    "pl.legend(loc='best')"
   ]
  },
  {
   "cell_type": "code",
   "execution_count": 230,
   "metadata": {
    "collapsed": false
   },
   "outputs": [
    {
     "data": {
      "text/plain": [
       "LogisticRegression(C=1.0, class_weight=None, dual=False, fit_intercept=True,\n",
       "          intercept_scaling=1, max_iter=100, multi_class='ovr', n_jobs=1,\n",
       "          penalty='l2', random_state=None, solver='liblinear', tol=0.0001,\n",
       "          verbose=0, warm_start=False)"
      ]
     },
     "execution_count": 230,
     "metadata": {},
     "output_type": "execute_result"
    }
   ],
   "source": [
    "pkl_file = open('first_dataset.pkl', 'rb')\n",
    "data = pick.load(pkl_file)\n",
    "\n",
    "x_train = data['train_data']\n",
    "y_train = data['train_labels']\n",
    "\n",
    "x_test = data['test_data']\n",
    "y_test = data['test_labels']\n",
    "\n",
    "logistic = linear_model.LogisticRegression()\n",
    "logistic.fit(x_train, y_train)"
   ]
  },
  {
   "cell_type": "code",
   "execution_count": 231,
   "metadata": {
    "collapsed": false
   },
   "outputs": [],
   "source": [
    "scaler_categorical = preproc.StandardScaler().fit(x_train)\n",
    "x_train = scaler_categorical.transform(x_train)\n",
    "x_train = np.insert(x_train,1,1,axis=1)\n",
    "\n",
    "scaler_categorical = preproc.StandardScaler().fit(x_test)\n",
    "x_test = scaler_categorical.transform(x_test)\n",
    "x_test = np.insert(x_test,1,1,axis=1)"
   ]
  },
  {
   "cell_type": "code",
   "execution_count": 234,
   "metadata": {
    "collapsed": false
   },
   "outputs": [
    {
     "data": {
      "text/plain": [
       "[<matplotlib.lines.Line2D at 0x10dfd2090>]"
      ]
     },
     "execution_count": 234,
     "metadata": {},
     "output_type": "execute_result"
    },
    {
     "data": {
      "image/png": "[encoded data removed]",
      "text/plain": [
       "<matplotlib.figure.Figure at 0x1165efd10>"
      ]
     },
     "metadata": {},
     "output_type": "display_data"
    }
   ],
   "source": [
    "w, L1 = GD(x_train, y_train, gamma = 0)\n",
    "pl.plot(L1)"
   ]
  },
  {
   "cell_type": "code",
   "execution_count": 235,
   "metadata": {
    "collapsed": false
   },
   "outputs": [
    {
     "data": {
      "text/plain": [
       "[<matplotlib.lines.Line2D at 0x114fec090>]"
      ]
     },
     "execution_count": 235,
     "metadata": {},
     "output_type": "execute_result"
    },
    {
     "data": {
      "image/png": "[encoded data removed]",
      "text/plain": [
       "<matplotlib.figure.Figure at 0x10dfd55d0>"
      ]
     },
     "metadata": {},
     "output_type": "display_data"
    }
   ],
   "source": [
    "w_reg, L2 = GD(x_train, y_train, gamma = 9)\n",
    "pl.plot(L2)"
   ]
  },
  {
   "cell_type": "code",
   "execution_count": 148,
   "metadata": {
    "collapsed": false
   },
   "outputs": [],
   "source": [
    "def predict_class(x,w,border = 0):\n",
    "    res = 0\n",
    "    for i in range(len(x)):\n",
    "        res += x[i]*w[i]\n",
    "        \n",
    "    if res > border:\n",
    "        return 1\n",
    "    else:\n",
    "        return -1\n",
    "    \n",
    "def calculate_indicators(data, labels, weights):\n",
    "    true_positive = 0\n",
    "    false_positive = 0\n",
    "    true_negative = 0\n",
    "    false_negative = 0\n",
    "    for i in range(len(data)):\n",
    "        predicted_class = predict_class(data[i], weights)\n",
    "        actual_class = labels[i]\n",
    "        if predicted_class == 1:\n",
    "            if actual_class == predicted_class:\n",
    "                true_positive += 1\n",
    "            else:\n",
    "                false_positive += 1\n",
    "        else:\n",
    "            if predicted_class == actual_class:\n",
    "                true_negative += 1\n",
    "            else:\n",
    "                false_negative += 1\n",
    "                \n",
    "    correctness = float(true_positive + true_negative) / len(data)\n",
    "    precision = float(true_positive) / (true_positive + false_positive)\n",
    "    recall = float(true_positive) / (true_positive + false_negative)\n",
    "    return correctness, precision, recall"
   ]
  },
  {
   "cell_type": "code",
   "execution_count": 236,
   "metadata": {
    "collapsed": false
   },
   "outputs": [
    {
     "name": "stdout",
     "output_type": "stream",
     "text": [
      "Without regularization\n",
      "Accuracy 0.705\n",
      "Precision 0.739583333333\n",
      "Recall 0.67619047619\n"
     ]
    }
   ],
   "source": [
    "accuracy,precision,recall = calculate_indicators(x_test, y_test, w)\n",
    "print 'Without regularization'\n",
    "print 'Accuracy {0}'.format(accuracy)\n",
    "print 'Precision {0}'.format(precision)\n",
    "print 'Recall {0}'.format(recall)"
   ]
  },
  {
   "cell_type": "code",
   "execution_count": 237,
   "metadata": {
    "collapsed": false
   },
   "outputs": [
    {
     "name": "stdout",
     "output_type": "stream",
     "text": [
      "With regularization\n",
      "Accuracy 0.86\n",
      "Precision 0.859813084112\n",
      "Recall 0.87619047619\n"
     ]
    }
   ],
   "source": [
    "accuracy,precision,recall = calculate_indicators(x_test, y_test, w_reg)\n",
    "print 'With regularization'\n",
    "print 'Accuracy {0}'.format(accuracy)\n",
    "print 'Precision {0}'.format(precision)\n",
    "print 'Recall {0}'.format(recall)"
   ]
  },
  {
   "cell_type": "code",
   "execution_count": 238,
   "metadata": {
    "collapsed": false
   },
   "outputs": [
    {
     "name": "stdout",
     "output_type": "stream",
     "text": [
      "Without regularization\n",
      "Accuracy 0.95\n",
      "Precision 0.947916666667\n",
      "Recall 0.947916666667\n",
      "--------------------------------------------\n",
      "With regularization\n",
      "Accuracy 0.96\n",
      "Precision 0.958333333333\n",
      "Recall 0.958333333333\n"
     ]
    }
   ],
   "source": [
    "accuracy,precision,recall =  calculate_indicators(x_train, y_train, w)\n",
    "print 'Without regularization'\n",
    "print 'Accuracy {0}'.format(accuracy)\n",
    "print 'Precision {0}'.format(precision)\n",
    "print 'Recall {0}'.format(recall)\n",
    "\n",
    "print '--------------------------------------------'\n",
    "accuracy, precision, recall =  calculate_indicators(x_train, y_train, w_reg)\n",
    "print 'With regularization'\n",
    "print 'Accuracy {0}'.format(accuracy)\n",
    "print 'Precision {0}'.format(precision)\n",
    "print 'Recall {0}'.format(recall)"
   ]
  },
  {
   "cell_type": "markdown",
   "metadata": {},
   "source": [
    "As expected, indicators for case with regularization are higher than those for case without it. Regularization help us to deal with overfitting and in our situation we have not enough train objects, but too much features. So without regulatization we have overfitting problem."
   ]
  },
  {
   "cell_type": "code",
   "execution_count": 152,
   "metadata": {
    "collapsed": true
   },
   "outputs": [],
   "source": [
    "# two most features has the same index as two biggest items of w - vector\n",
    "def find_two_most_important_features(weights):\n",
    "    first_max_value = 0.0\n",
    "    first_max_index = 0\n",
    "    \n",
    "    second_max_value = 0.0\n",
    "    second_max_index = 0\n",
    "    \n",
    "    for i in range(len(weights)):\n",
    "        if abs(weights[i])>first_max_value:\n",
    "            first_max_value = abs(weights[i])\n",
    "            first_max_index = i\n",
    "    \n",
    "    for i in range(len(weights)):\n",
    "        if (abs(weights[i]) > second_max_value) and (first_max_index != i):\n",
    "            second_max_value = abs(weights[i])\n",
    "            second_max_index = i\n",
    "            \n",
    "    return first_max_index, second_max_index"
   ]
  },
  {
   "cell_type": "code",
   "execution_count": 153,
   "metadata": {
    "collapsed": false
   },
   "outputs": [
    {
     "name": "stdout",
     "output_type": "stream",
     "text": [
      "Two most important features are:\n",
      "35 91\n"
     ]
    }
   ],
   "source": [
    "first_max, second_max = find_two_most_important_features(w_reg)\n",
    "print 'Two most important features are:'\n",
    "print first_max,second_max"
   ]
  },
  {
   "cell_type": "code",
   "execution_count": 192,
   "metadata": {
    "collapsed": false
   },
   "outputs": [],
   "source": [
    "x_train = data['train_data']\n",
    "y_train = data['train_labels']\n",
    "\n",
    "x_test = data['test_data']\n",
    "y_test = data['test_labels']\n",
    "\n",
    "test_data = list()\n",
    "for obj in x_test:\n",
    "    f1 = (obj[first_max])\n",
    "    f2 = (obj[second_max])\n",
    "    test_data.append(np.array([f1, f2]))\n",
    "\n",
    "\n",
    "train_data = list()\n",
    "for obj in x_train:\n",
    "    f1 = (obj[first_max])\n",
    "    f2 = (obj[second_max]) \n",
    "    train_data.append( np.array([f1,f2]))\n",
    "\n",
    "scaler_categorical = preproc.StandardScaler().fit(train_data)\n",
    "train_data  = scaler_categorical.transform(train_data)\n",
    "test_data  = scaler_categorical.transform(test_data)\n",
    "train_data =  np.insert(train_data,1,1,axis=1)\n",
    "test_data = np.insert(test_data,1,1,axis=1)\n",
    "\n"
   ]
  },
  {
   "cell_type": "code",
   "execution_count": 195,
   "metadata": {
    "collapsed": false
   },
   "outputs": [
    {
     "name": "stdout",
     "output_type": "stream",
     "text": [
      "[-0.88955062  1.         -1.41793344]\n"
     ]
    },
    {
     "ename": "ValueError",
     "evalue": "X has 2 features per sample; expecting 3",
     "output_type": "error",
     "traceback": [
      "\u001b[0;31m---------------------------------------------------------------------------\u001b[0m",
      "\u001b[0;31mValueError\u001b[0m                                Traceback (most recent call last)",
      "\u001b[0;32m<ipython-input-195-e8e0a8e7aa02>\u001b[0m in \u001b[0;36m<module>\u001b[0;34m()\u001b[0m\n\u001b[1;32m      8\u001b[0m \u001b[0mxx\u001b[0m\u001b[0;34m,\u001b[0m \u001b[0myy\u001b[0m \u001b[0;34m=\u001b[0m \u001b[0mnp\u001b[0m\u001b[0;34m.\u001b[0m\u001b[0mmeshgrid\u001b[0m\u001b[0;34m(\u001b[0m\u001b[0mnp\u001b[0m\u001b[0;34m.\u001b[0m\u001b[0marange\u001b[0m\u001b[0;34m(\u001b[0m\u001b[0mx_min\u001b[0m\u001b[0;34m,\u001b[0m \u001b[0mx_max\u001b[0m\u001b[0;34m,\u001b[0m \u001b[0mh\u001b[0m\u001b[0;34m)\u001b[0m\u001b[0;34m,\u001b[0m \u001b[0mnp\u001b[0m\u001b[0;34m.\u001b[0m\u001b[0marange\u001b[0m\u001b[0;34m(\u001b[0m\u001b[0my_min\u001b[0m\u001b[0;34m,\u001b[0m \u001b[0my_max\u001b[0m\u001b[0;34m,\u001b[0m \u001b[0mh\u001b[0m\u001b[0;34m)\u001b[0m\u001b[0;34m)\u001b[0m\u001b[0;34m\u001b[0m\u001b[0m\n\u001b[1;32m      9\u001b[0m \u001b[0;34m\u001b[0m\u001b[0m\n\u001b[0;32m---> 10\u001b[0;31m \u001b[0mZ\u001b[0m \u001b[0;34m=\u001b[0m \u001b[0mlogistic\u001b[0m\u001b[0;34m.\u001b[0m\u001b[0mpredict\u001b[0m\u001b[0;34m(\u001b[0m\u001b[0mnp\u001b[0m\u001b[0;34m.\u001b[0m\u001b[0mc_\u001b[0m\u001b[0;34m[\u001b[0m\u001b[0mxx\u001b[0m\u001b[0;34m.\u001b[0m\u001b[0mravel\u001b[0m\u001b[0;34m(\u001b[0m\u001b[0;34m)\u001b[0m\u001b[0;34m,\u001b[0m \u001b[0myy\u001b[0m\u001b[0;34m.\u001b[0m\u001b[0mravel\u001b[0m\u001b[0;34m(\u001b[0m\u001b[0;34m)\u001b[0m\u001b[0;34m]\u001b[0m\u001b[0;34m)\u001b[0m\u001b[0;34m\u001b[0m\u001b[0m\n\u001b[0m\u001b[1;32m     11\u001b[0m \u001b[0mZ\u001b[0m \u001b[0;34m=\u001b[0m \u001b[0mZ\u001b[0m\u001b[0;34m.\u001b[0m\u001b[0mreshape\u001b[0m\u001b[0;34m(\u001b[0m\u001b[0mxx\u001b[0m\u001b[0;34m.\u001b[0m\u001b[0mshape\u001b[0m\u001b[0;34m)\u001b[0m\u001b[0;34m\u001b[0m\u001b[0m\n\u001b[1;32m     12\u001b[0m \u001b[0;34m\u001b[0m\u001b[0m\n",
      "\u001b[0;32m/Library/Python/2.7/site-packages/sklearn/linear_model/base.pyc\u001b[0m in \u001b[0;36mpredict\u001b[0;34m(self, X)\u001b[0m\n\u001b[1;32m    266\u001b[0m             \u001b[0mPredicted\u001b[0m \u001b[0;32mclass\u001b[0m \u001b[0mlabel\u001b[0m \u001b[0mper\u001b[0m \u001b[0msample\u001b[0m\u001b[0;34m.\u001b[0m\u001b[0;34m\u001b[0m\u001b[0m\n\u001b[1;32m    267\u001b[0m         \"\"\"\n\u001b[0;32m--> 268\u001b[0;31m         \u001b[0mscores\u001b[0m \u001b[0;34m=\u001b[0m \u001b[0mself\u001b[0m\u001b[0;34m.\u001b[0m\u001b[0mdecision_function\u001b[0m\u001b[0;34m(\u001b[0m\u001b[0mX\u001b[0m\u001b[0;34m)\u001b[0m\u001b[0;34m\u001b[0m\u001b[0m\n\u001b[0m\u001b[1;32m    269\u001b[0m         \u001b[0;32mif\u001b[0m \u001b[0mlen\u001b[0m\u001b[0;34m(\u001b[0m\u001b[0mscores\u001b[0m\u001b[0;34m.\u001b[0m\u001b[0mshape\u001b[0m\u001b[0;34m)\u001b[0m \u001b[0;34m==\u001b[0m \u001b[0;36m1\u001b[0m\u001b[0;34m:\u001b[0m\u001b[0;34m\u001b[0m\u001b[0m\n\u001b[1;32m    270\u001b[0m             \u001b[0mindices\u001b[0m \u001b[0;34m=\u001b[0m \u001b[0;34m(\u001b[0m\u001b[0mscores\u001b[0m \u001b[0;34m>\u001b[0m \u001b[0;36m0\u001b[0m\u001b[0;34m)\u001b[0m\u001b[0;34m.\u001b[0m\u001b[0mastype\u001b[0m\u001b[0;34m(\u001b[0m\u001b[0mnp\u001b[0m\u001b[0;34m.\u001b[0m\u001b[0mint\u001b[0m\u001b[0;34m)\u001b[0m\u001b[0;34m\u001b[0m\u001b[0m\n",
      "\u001b[0;32m/Library/Python/2.7/site-packages/sklearn/linear_model/base.pyc\u001b[0m in \u001b[0;36mdecision_function\u001b[0;34m(self, X)\u001b[0m\n\u001b[1;32m    247\u001b[0m         \u001b[0;32mif\u001b[0m \u001b[0mX\u001b[0m\u001b[0;34m.\u001b[0m\u001b[0mshape\u001b[0m\u001b[0;34m[\u001b[0m\u001b[0;36m1\u001b[0m\u001b[0;34m]\u001b[0m \u001b[0;34m!=\u001b[0m \u001b[0mn_features\u001b[0m\u001b[0;34m:\u001b[0m\u001b[0;34m\u001b[0m\u001b[0m\n\u001b[1;32m    248\u001b[0m             raise ValueError(\"X has %d features per sample; expecting %d\"\n\u001b[0;32m--> 249\u001b[0;31m                              % (X.shape[1], n_features))\n\u001b[0m\u001b[1;32m    250\u001b[0m \u001b[0;34m\u001b[0m\u001b[0m\n\u001b[1;32m    251\u001b[0m         scores = safe_sparse_dot(X, self.coef_.T,\n",
      "\u001b[0;31mValueError\u001b[0m: X has 2 features per sample; expecting 3"
     ]
    }
   ],
   "source": [
    "# trying to draw\n",
    "print train_data[0]\n",
    "logistic = linear_model.LogisticRegression()\n",
    "logistic.fit(train_data, y_train)\n",
    "h = .02\n",
    "x_min, x_max = test_data[:,0].min() - .5, test_data[:,0].max() + .5\n",
    "y_min, y_max = test_data[:,1].min() - .5, test_data[:,1].max() + .5\n",
    "xx, yy = np.meshgrid(np.arange(x_min, x_max, h), np.arange(y_min, y_max, h))\n",
    "\n",
    "Z = logistic.predict(np.c_[xx.ravel(), yy.ravel()])\n",
    "Z = Z.reshape(xx.shape)\n",
    "\n",
    "pylab.figure(1, figsize=(4, 3))\n",
    "pylab.set_cmap(pylab.cm.Paired)\n",
    "pylab.pcolormesh(xx, yy, Z)\n",
    "#Color dots\n",
    "pylab.scatter(arr[:len(arr1), 0], arr[:len(arr1),1], c='b') \n",
    "pylab.scatter(arr[len(arr1):, 0], arr[len(arr1):,1], c='r')\n",
    "pylab.xlabel('x')\n",
    "pylab.ylabel('y')"
   ]
  },
  {
   "cell_type": "code",
   "execution_count": 193,
   "metadata": {
    "collapsed": false
   },
   "outputs": [
    {
     "name": "stdout",
     "output_type": "stream",
     "text": [
      "Two features only\n",
      "With regularization\n",
      "Correctness 0.495\n",
      "Precision 0.527027027027\n",
      "Recall 0.371428571429\n"
     ]
    }
   ],
   "source": [
    "w3,L3 = GD(train_data, y_train)\n",
    "correctness, precision, recall = calculate_indicators(test_data,y_test, w3)\n",
    "print 'Two features only'\n",
    "print 'With regularization'\n",
    "print 'Correctness {0}'.format(correctness)\n",
    "print 'Precision {0}'.format(precision)\n",
    "print 'Recall {0}'.format(recall)\n"
   ]
  },
  {
   "cell_type": "code",
   "execution_count": 205,
   "metadata": {
    "collapsed": false
   },
   "outputs": [],
   "source": [
    "pkl_file = open('diabetes.pkl', 'rb')\n",
    "data = pick.load(pkl_file)\n",
    "x_deab = data['data']\n",
    "y_deab = data['labels']\n",
    "logistic = linear_model.LogisticRegression()\n",
    "logistic.fit(x_deab, y_deab)\n",
    "scaler_categorical = preproc.StandardScaler().fit(x_deab)\n",
    "x_deab  = scaler_categorical.transform(x_deab)\n",
    "x_deab =  np.insert(x_deab,1,1,axis=1)\n",
    "w, L = SGD(x_deab, y_deab)"
   ]
  },
  {
   "cell_type": "code",
   "execution_count": 206,
   "metadata": {
    "collapsed": false
   },
   "outputs": [
    {
     "name": "stdout",
     "output_type": "stream",
     "text": [
      "[[381 119]\n",
      " [ 91 177]]\n",
      "Number of false-positive : 91\n",
      "Number of false-negative : 119\n",
      "False positive rate: 0.433333333333\n",
      "False negative rate: 0.566666666667\n"
     ]
    }
   ],
   "source": [
    "pred = [predict_class(obj, w) for obj in x_deab]\n",
    "conf_mat = confusion_matrix(y_deab, pred)\n",
    "print conf_mat\n",
    "print 'Number of false-positive : {0}'.format(conf_mat[1][0])\n",
    "print 'Number of false-negative : {0}'.format(conf_mat[0][1])\n",
    "false_positive_rate = float(conf_mat[1][0])/(conf_mat[1][0] + conf_mat[0][1])\n",
    "false_negative_rate = float(conf_mat[0][1])/(conf_mat[0][1] + conf_mat[1][0])\n",
    "\n",
    "print 'False positive rate: {0}'.format(false_positive_rate)\n",
    "print 'False negative rate: {0}'.format(false_negative_rate)\n"
   ]
  },
  {
   "cell_type": "markdown",
   "metadata": {},
   "source": [
    "Rates are so different, because False positive mistakes a much more dangerous, and classifier is designed to not to do mistakes of this kind"
   ]
  },
  {
   "cell_type": "code",
   "execution_count": 221,
   "metadata": {
    "collapsed": false
   },
   "outputs": [
    {
     "data": {
      "text/plain": [
       "[<matplotlib.lines.Line2D at 0x116479e10>]"
      ]
     },
     "execution_count": 221,
     "metadata": {},
     "output_type": "execute_result"
    },
    {
     "data": {
      "image/png": "[encoded data removed]",
      "text/plain": [
       "<matplotlib.figure.Figure at 0x1152c8b90>"
      ]
     },
     "metadata": {},
     "output_type": "display_data"
    }
   ],
   "source": [
    "a = 0.5\n",
    "pred = [predict_class(obj, w) for obj in x_deab]\n",
    "pred_a = [predict_class(obj, w, a) for obj in x_deab]\n",
    "conf_mat = confusion_matrix(y_deab, pred)\n",
    "\n",
    "\n",
    "fpr, tpr, thrs = roc_curve(y_deab, pred, pos_label=1)\n",
    "fpr_a, tpr_a, thrs_a = roc_curve(y_deab, pred_a, pos_label=1)\n",
    "pl.plot(fpr, tpr, label = 'a = 0')\n",
    "pl.plot(fpr_a,tpr_a, label = 'a = 0.5')\n",
    "pl.legend(loc = 'best')\n",
    "pl.xlabel('FPR')\n",
    "pl.ylabel('TRP')\n",
    "pl.plot([0, 1], [0, 1], '-')\n",
    "\n",
    "\n"
   ]
  },
  {
   "cell_type": "code",
   "execution_count": 227,
   "metadata": {
    "collapsed": false
   },
   "outputs": [
    {
     "name": "stdout",
     "output_type": "stream",
     "text": [
      "Best a is -1: \n",
      "False positive rate: 0.08984375\n",
      "False negative rate: 0.91015625\n",
      "Accuracy: 0.666666666667\n"
     ]
    }
   ],
   "source": [
    "a = 0\n",
    "num = 0\n",
    "for rate in tpr:\n",
    "    if rate > 0.8:\n",
    "        break\n",
    "    num += 1\n",
    "\n",
    "    \n",
    "a = thrs[num]\n",
    "print 'Best a is {0}: '.format(a)\n",
    "\n",
    "pred = [predict_class(obj, w, a) for obj in x_deab]\n",
    "conf_mat = confusion_matrix(y_deab, pred)\n",
    "accuracy = (float(conf_mat[1][1])+conf_mat[0][0])/len(pred)\n",
    "false_positive_rate = float(conf_mat[1][0])/(conf_mat[1][0] + conf_mat[0][1])\n",
    "false_negative_rate = float(conf_mat[0][1])/(conf_mat[0][1] + conf_mat[1][0])\n",
    "\n",
    "print 'False positive rate: {0}'.format(false_positive_rate)\n",
    "print 'False negative rate: {0}'.format(false_negative_rate)\n",
    "print 'Accuracy: {0}'.format(accuracy)\n"
   ]
  },
  {
   "cell_type": "markdown",
   "metadata": {
    "collapsed": true
   },
   "source": [
    "Very small false positive rate is extremely good."
   ]
  },
  {
   "cell_type": "code",
   "execution_count": null,
   "metadata": {
    "collapsed": true
   },
   "outputs": [],
   "source": []
  }
 ],
 "metadata": {
  "kernelspec": {
   "display_name": "Python 2",
   "language": "python",
   "name": "python2"
  },
  "language_info": {
   "codemirror_mode": {
    "name": "ipython",
    "version": 2
   },
   "file_extension": ".py",
   "mimetype": "text/x-python",
   "name": "python",
   "nbconvert_exporter": "python",
   "pygments_lexer": "ipython2",
   "version": "2.7.6"
  }
 },
 "nbformat": 4,
 "nbformat_minor": 0
}
