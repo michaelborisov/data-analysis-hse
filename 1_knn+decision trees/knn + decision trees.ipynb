{
 "cells": [
  {
   "cell_type": "code",
   "execution_count": 6,
   "metadata": {
    "collapsed": true
   },
   "outputs": [],
   "source": [
    "import numpy as np\n",
    "import numpy.random as rnd\n",
    "import pylab\n",
    "%matplotlib inline"
   ]
  },
  {
   "cell_type": "code",
   "execution_count": 7,
   "metadata": {
    "collapsed": false
   },
   "outputs": [
    {
     "name": "stdout",
     "output_type": "stream",
     "text": [
      "200\n"
     ]
    }
   ],
   "source": [
    "points = dict()\n",
    "for i in range(1,201,1):\n",
    "    points[i] = rnd.uniform(-1,1,([100,i]))\n",
    "print len(points[200][99])\n",
    "    "
   ]
  },
  {
   "cell_type": "code",
   "execution_count": 8,
   "metadata": {
    "collapsed": false
   },
   "outputs": [
    {
     "data": {
      "text/plain": [
       "[0.12953555861266927, 2.2745180187141258]"
      ]
     },
     "execution_count": 8,
     "metadata": {},
     "output_type": "execute_result"
    }
   ],
   "source": [
    "def calculate_distance_between_two_points(point1, point2):\n",
    "    dimension = len(point1)\n",
    "    distance = 0.0\n",
    "    for i in range(dimension):\n",
    "        distance += (point1[i] - point2[i])**2\n",
    "    distance = distance**(0.5)\n",
    "    return distance\n",
    "    \n",
    "\n",
    "def calculate_min_max(point):\n",
    "    dimension = len(point)\n",
    "    min_value = None\n",
    "    max_value = None\n",
    "    arr = points[dimension]\n",
    "    for i in arr:\n",
    "        if np.array_equal(i,point):\n",
    "            continue\n",
    "        res = calculate_distance_between_two_points(i, point)\n",
    "        if min_value is None:\n",
    "            min_value = res\n",
    "        if max_value is None:\n",
    "            max_value = res\n",
    "        if res < min_value:\n",
    "            min_value = res\n",
    "        if res > max_value:\n",
    "            max_value = res\n",
    "    return [min_value, max_value]\n",
    "    \n",
    "    \n",
    "calculate_min_max([0.5,0.5, 0.5])"
   ]
  },
  {
   "cell_type": "code",
   "execution_count": 22,
   "metadata": {
    "collapsed": false
   },
   "outputs": [],
   "source": [
    "av_mins = list()\n",
    "av_maxs = list()\n",
    "for i in range(1,201,1):\n",
    "    cur_points = points[i]\n",
    "    sum_of_mins = 0.0\n",
    "    sum_of_maxs = 0.0\n",
    "    for point in cur_points:\n",
    "        res = calculate_min_max(point)\n",
    "        sum_of_mins += res[0]\n",
    "        sum_of_maxs += res[1]\n",
    "    av_mins.append(sum_of_mins/100)\n",
    "    av_maxs.append(sum_of_maxs/100)\n",
    "\n",
    "    "
   ]
  },
  {
   "cell_type": "code",
   "execution_count": 23,
   "metadata": {
    "collapsed": false
   },
   "outputs": [
    {
     "data": {
      "text/plain": [
       "<matplotlib.legend.Legend at 0x1142b1f90>"
      ]
     },
     "execution_count": 23,
     "metadata": {},
     "output_type": "execute_result"
    },
    {
     "data": {
      "image/png": "[encoded data removed]",
      "text/plain": [
       "<matplotlib.figure.Figure at 0x110210c90>"
      ]
     },
     "metadata": {},
     "output_type": "display_data"
    }
   ],
   "source": [
    "pylab.plot(av_mins, c = 'g', label = 'mins')\n",
    "pylab.plot(av_maxs, c= 'r', label='maxs' )\n",
    "pylab.xlabel('Dimensions')\n",
    "pylab.ylabel(\"Distance\")\n",
    "pylab.legend(loc='best')"
   ]
  },
  {
   "cell_type": "code",
   "execution_count": 24,
   "metadata": {
    "collapsed": false
   },
   "outputs": [],
   "source": [
    "av_ratio = list()\n",
    "for i in range(len(av_maxs)):\n",
    "    av_ratio.append(av_maxs[i]/av_mins[i])\n"
   ]
  },
  {
   "cell_type": "code",
   "execution_count": 25,
   "metadata": {
    "collapsed": false
   },
   "outputs": [
    {
     "data": {
      "text/plain": [
       "<matplotlib.legend.Legend at 0x113e8f810>"
      ]
     },
     "execution_count": 25,
     "metadata": {},
     "output_type": "execute_result"
    },
    {
     "data": {
      "image/png": "[encoded data removed]",
      "text/plain": [
       "<matplotlib.figure.Figure at 0x110208a90>"
      ]
     },
     "metadata": {},
     "output_type": "display_data"
    }
   ],
   "source": [
    "pylab.plot(av_ratio, c = 'b', label = 'ratio')\n",
    "pylab.xlabel('Dimensions')\n",
    "pylab.ylabel(\"Max/Min\")\n",
    "pylab.legend(loc='best')"
   ]
  },
  {
   "cell_type": "markdown",
   "metadata": {},
   "source": [
    "In this case, the curse of the dimension is exactly the case since: for large dimensions, already \"close points\" are at a relatively large distance. As a consequence of the curse of dimensionality, we need a larger sample in order for us to draw some conclusions, and in this case, the distance between points with large dimensions gives us very little information."
   ]
  },
  {
   "cell_type": "code",
   "execution_count": 10,
   "metadata": {
    "collapsed": false
   },
   "outputs": [],
   "source": [
    "import sklearn\n",
    "import sklearn.neighbors as skl_kNN\n",
    "import sklearn.tree as skl_decTree\n",
    "arr1 = rnd.multivariate_normal([1,1], np.eye(2), 100)\n",
    "arr2 = rnd.multivariate_normal([3,3], np.eye(2), 100)"
   ]
  },
  {
   "cell_type": "code",
   "execution_count": 11,
   "metadata": {
    "collapsed": false
   },
   "outputs": [
    {
     "data": {
      "text/plain": [
       "<matplotlib.text.Text at 0x1121a5c50>"
      ]
     },
     "execution_count": 11,
     "metadata": {},
     "output_type": "execute_result"
    },
    {
     "data": {
      "image/png": "[encoded data removed]",
      "text/plain": [
       "<matplotlib.figure.Figure at 0x11217d8d0>"
      ]
     },
     "metadata": {},
     "output_type": "display_data"
    }
   ],
   "source": [
    "pylab.scatter(arr1[:,0], arr1[:,1], c='b')\n",
    "pylab.scatter(arr2[:,0], arr2[:,1], c='r')\n",
    "pylab.xlabel('x')\n",
    "pylab.ylabel('y')"
   ]
  },
  {
   "cell_type": "code",
   "execution_count": 12,
   "metadata": {
    "collapsed": false
   },
   "outputs": [
    {
     "data": {
      "text/plain": [
       "<matplotlib.text.Text at 0x10facc890>"
      ]
     },
     "execution_count": 12,
     "metadata": {},
     "output_type": "execute_result"
    },
    {
     "data": {
      "image/png": "[encoded data removed]",
      "text/plain": [
       "<matplotlib.figure.Figure at 0x10e47af50>"
      ]
     },
     "metadata": {},
     "output_type": "display_data"
    }
   ],
   "source": [
    "arr = np.concatenate((arr1,arr2))\n",
    "labels = np.concatenate((np.zeros(100), np.ones(100)))\n",
    "knn_cl = skl_kNN.KNeighborsClassifier()\n",
    "knn_cl.fit(arr, labels)\n",
    "\n",
    "dectree_cl = skl_decTree.DecisionTreeClassifier()\n",
    "dectree_cl.fit(arr,labels)\n",
    "\n",
    "h = .02\n",
    "x_min, x_max = arr[:,0].min() - .5, arr[:,0].max() + .5\n",
    "y_min, y_max = arr[:,1].min() - .5, arr[:,1].max() + .5\n",
    "xx, yy = np.meshgrid(np.arange(x_min, x_max, h), np.arange(y_min, y_max, h))\n",
    "Z = knn_cl.predict(np.c_[xx.ravel(), yy.ravel()])\n",
    "Z = Z.reshape(xx.shape)\n",
    "\n",
    "pylab.figure(1, figsize=(4, 3))\n",
    "pylab.set_cmap(pylab.cm.Paired)\n",
    "pylab.pcolormesh(xx, yy, Z)\n",
    "#Color dots\n",
    "pylab.scatter(arr[:len(arr1), 0], arr[:len(arr1),1], c='b') \n",
    "pylab.scatter(arr[len(arr1):, 0], arr[len(arr1):,1], c='r')\n",
    "pylab.xlabel('x')\n",
    "pylab.ylabel('y')"
   ]
  },
  {
   "cell_type": "markdown",
   "metadata": {},
   "source": [
    "The decision surface looks like this, since the bottom points on the left are dominated by blue dots, and the red ones on the top-right. In consequence of this, it turns out that the nearest neighbors method would assign the bottom left  points to the class of blue, and the upper right to the red class. And on the very border there would be points, which classification is ambiguous."
   ]
  },
  {
   "cell_type": "code",
   "execution_count": 13,
   "metadata": {
    "collapsed": false
   },
   "outputs": [
    {
     "data": {
      "text/plain": [
       "<matplotlib.text.Text at 0x10fabdf10>"
      ]
     },
     "execution_count": 13,
     "metadata": {},
     "output_type": "execute_result"
    },
    {
     "data": {
      "image/png": "[encoded data removed]",
      "text/plain": [
       "<matplotlib.figure.Figure at 0x10e485090>"
      ]
     },
     "metadata": {},
     "output_type": "display_data"
    }
   ],
   "source": [
    "W = dectree_cl.predict(np.c_[xx.ravel(), yy.ravel()])\n",
    "W = W.reshape(xx.shape)\n",
    "pylab.figure(1, figsize=(4, 3))\n",
    "pylab.set_cmap(pylab.cm.Paired)\n",
    "pylab.pcolormesh(xx, yy, W)\n",
    "pylab.scatter(arr[:len(arr1), 0], arr[:len(arr1),1], c='b') \n",
    "pylab.scatter(arr[len(arr1):, 0], arr[len(arr1):,1], c='r')\n",
    "pylab.xlabel('x')\n",
    "pylab.ylabel('y')"
   ]
  },
  {
   "cell_type": "markdown",
   "metadata": {},
   "source": [
    "The Decision surface for the Decision Tree looks like this, because at each node in which the points are divided, we compare the value from one dimension to the constant. Such a partitioning  causes appearances in the Decision surface lines parallel to the axes."
   ]
  },
  {
   "cell_type": "code",
   "execution_count": 23,
   "metadata": {
    "collapsed": false
   },
   "outputs": [],
   "source": [
    "import pandas as pd\n",
    "data = pd.read_csv('adult_data_small.csv')\n",
    "data\n",
    "temp = data['salary']\n",
    "y = list()\n",
    "for i in range(len(temp)):\n",
    "    if temp[i] == '<=50K':\n",
    "        y.append(0)\n",
    "    if temp[i] == '>50K':\n",
    "        y.append(1)\n",
    "x1 = data.drop(['workclass','education','marital-status','occupation','relationship','race','sex',\n",
    "           'native-country','salary'],1)\n",
    "data.drop(['salary'],1,inplace=True)\n",
    "x2 = pd.get_dummies(data)\n",
    "x1_train,x1_test,x2_train,x2_test,y_train,y_test = sklearn.cross_validation.train_test_split(x1,x2,y,test_size = 0.3)"
   ]
  },
  {
   "cell_type": "code",
   "execution_count": 24,
   "metadata": {
    "collapsed": false
   },
   "outputs": [
    {
     "name": "stdout",
     "output_type": "stream",
     "text": [
      "7000\n",
      "3000\n",
      "7000\n",
      "3000\n"
     ]
    }
   ],
   "source": [
    "print len(x1_train)\n",
    "print len(x1_test)\n",
    "print len(x2_train)\n",
    "print len(x2_test)"
   ]
  },
  {
   "cell_type": "code",
   "execution_count": 25,
   "metadata": {
    "collapsed": false
   },
   "outputs": [
    {
     "data": {
      "text/plain": [
       "DecisionTreeClassifier(class_weight=None, criterion='gini', max_depth=None,\n",
       "            max_features=None, max_leaf_nodes=None, min_samples_leaf=1,\n",
       "            min_samples_split=2, min_weight_fraction_leaf=0.0,\n",
       "            presort=False, random_state=None, splitter='best')"
      ]
     },
     "execution_count": 25,
     "metadata": {},
     "output_type": "execute_result"
    }
   ],
   "source": [
    "scaler_x1 = sklearn.preprocessing.StandardScaler()\n",
    "scaler_x1.fit(x1_train)\n",
    "trans_x1_train = scaler_x1.transform(x1_train)\n",
    "trans_x1_test =  scaler_x1.transform(x1_test)\n",
    "\n",
    "scaler_x2 = sklearn.preprocessing.StandardScaler()\n",
    "scaler_x2.fit(x2_train)\n",
    "trans_x2_train = scaler_x2.transform(x2_train)\n",
    "trans_x2_test = scaler_x2.transform(x2_test)\n",
    "\n",
    "dectree_cl = skl_decTree.DecisionTreeClassifier()\n",
    "dectree_cl.fit(x1_train,y_train)"
   ]
  },
  {
   "cell_type": "code",
   "execution_count": 26,
   "metadata": {
    "collapsed": false
   },
   "outputs": [
    {
     "name": "stdout",
     "output_type": "stream",
     "text": [
      "kNN\n",
      "x1_test (without categorical):\n",
      "Score: 0.793\n",
      "Neighbors: 11\n",
      "x2_test (with categorical):\n",
      "Score: 0.793\n",
      "Neighbors: 11\n",
      "trans_x1_test (standartized without categorical):\n",
      "Score: 0.819333333333\n",
      "Neighbors: 50\n",
      "trans_x2_test (standartized with categorical):\n",
      "Score: 0.833333333333\n",
      "Neighbors: 43\n"
     ]
    }
   ],
   "source": [
    "print \"kNN\"\n",
    "best = 0.0\n",
    "neighbors = 0\n",
    "for i in range(1,51,1):\n",
    "    knn_cl = skl_kNN.KNeighborsClassifier(n_neighbors = i)\n",
    "    knn_cl.fit(x1_train, y_train)\n",
    "    s = knn_cl.score(x1_test, y_test)\n",
    "    if s > best:\n",
    "        best = s\n",
    "        neighbors = i\n",
    "        \n",
    "        \n",
    "print \"x1_test (without categorical):\"\n",
    "print \"Score: {0}\".format(best)\n",
    "print \"Neighbors: {0}\".format(neighbors)\n",
    "\n",
    "best = 0.0\n",
    "neighbors = 0\n",
    "for i in range(1,51,1):\n",
    "    knn_cl = skl_kNN.KNeighborsClassifier(n_neighbors = i)\n",
    "    knn_cl.fit(x2_train, y_train)\n",
    "    s = knn_cl.score(x2_test, y_test)\n",
    "    if s > best:\n",
    "        best = s\n",
    "        neighbors = i\n",
    "        \n",
    "        \n",
    "print \"x2_test (with categorical):\"\n",
    "print \"Score: {0}\".format(best)\n",
    "print \"Neighbors: {0}\".format(neighbors)\n",
    "\n",
    "best = 0.0\n",
    "neighbors = 0\n",
    "for i in range(1,51,1):\n",
    "    knn_cl = skl_kNN.KNeighborsClassifier(n_neighbors = i)\n",
    "    knn_cl.fit(trans_x1_train, y_train)\n",
    "    s = knn_cl.score(trans_x1_test, y_test)\n",
    "    if s > best:\n",
    "        best = s\n",
    "        neighbors = i\n",
    "        \n",
    "        \n",
    "print \"trans_x1_test (standartized without categorical):\"\n",
    "print \"Score: {0}\".format(best)\n",
    "print \"Neighbors: {0}\".format(neighbors)\n",
    "\n",
    "best = 0.0\n",
    "neighbors = 0\n",
    "for i in range(1,51,1):\n",
    "    knn_cl = skl_kNN.KNeighborsClassifier(n_neighbors = i)\n",
    "    knn_cl.fit(trans_x2_train, y_train)\n",
    "    s = knn_cl.score(trans_x2_test, y_test)\n",
    "    if s > best:\n",
    "        best = s\n",
    "        neighbors = i\n",
    "        \n",
    "        \n",
    "print \"trans_x2_test (standartized with categorical):\"\n",
    "print \"Score: {0}\".format(best)\n",
    "print \"Neighbors: {0}\".format(neighbors)"
   ]
  },
  {
   "cell_type": "code",
   "execution_count": 28,
   "metadata": {
    "collapsed": false
   },
   "outputs": [
    {
     "name": "stdout",
     "output_type": "stream",
     "text": [
      "Decision Tree\n",
      "x1_test (without categorical):\n",
      "Score: 0.830333333333\n",
      "Maximum depth: 6\n",
      "Minimum samples leaf: 20\n",
      "x2_test (with categorical):\n",
      "Score: 0.853333333333\n",
      "Maximum depth: 8\n",
      "Minimum samples leaf: 30\n",
      "trans_x1_test (standartized without categorical):\n",
      "Score: 0.830333333333\n",
      "Maximum depth: 6\n",
      "Minimum samples leaf: 20\n",
      "trans_x2_test (standartized with categorical):\n",
      "Score: 0.853333333333\n",
      "Maximum depth: 8\n",
      "Minimum samples leaf: 30\n"
     ]
    }
   ],
   "source": [
    "print \"Decision Tree\"\n",
    "best = 0.0\n",
    "max_depth = 0\n",
    "min_samples = 0\n",
    "for i in range(1,51,1):\n",
    "    for j in range(10, 510, 10):\n",
    "        dectree_cl = skl_decTree.DecisionTreeClassifier(max_depth = i,min_samples_leaf=j)\n",
    "        dectree_cl.fit(x1_train, y_train)\n",
    "        s = dectree_cl.score(x1_test, y_test)\n",
    "        if s > best:\n",
    "            best = s\n",
    "            max_depth = i\n",
    "            min_samples = j\n",
    "        \n",
    "print \"x1_test (without categorical):\"\n",
    "print \"Score: {0}\".format(best)\n",
    "print \"Maximum depth: {0}\".format(max_depth)\n",
    "print \"Minimum samples leaf: {0}\".format(min_samples)\n",
    "        \n",
    "best = 0.0\n",
    "max_depth = 0\n",
    "min_samples = 0\n",
    "for i in range(1,51,1):\n",
    "    for j in range(10, 510, 10):\n",
    "        dectree_cl = skl_decTree.DecisionTreeClassifier(max_depth = i,min_samples_leaf=j)\n",
    "        dectree_cl.fit(x2_train, y_train)\n",
    "        s = dectree_cl.score(x2_test, y_test)\n",
    "        if s > best:\n",
    "            best = s\n",
    "            max_depth = i\n",
    "            min_samples = j\n",
    "        \n",
    "print \"x2_test (with categorical):\"\n",
    "print \"Score: {0}\".format(best)\n",
    "print \"Maximum depth: {0}\".format(max_depth)\n",
    "print \"Minimum samples leaf: {0}\".format(min_samples)\n",
    "\n",
    "best = 0.0\n",
    "max_depth = 0\n",
    "min_samples = 0\n",
    "for i in range(1,51,1):\n",
    "    for j in range(10,510,10):\n",
    "        dectree_cl = skl_decTree.DecisionTreeClassifier(max_depth = i, min_samples_leaf=j)\n",
    "        dectree_cl.fit(trans_x1_train, y_train)\n",
    "        s = dectree_cl.score(trans_x1_test, y_test)\n",
    "        if s > best:\n",
    "            best = s\n",
    "            max_depth = i\n",
    "            min_samples = j\n",
    "        \n",
    "print \"trans_x1_test (standartized without categorical):\"\n",
    "print \"Score: {0}\".format(best)\n",
    "print \"Maximum depth: {0}\".format(max_depth)\n",
    "print \"Minimum samples leaf: {0}\".format(min_samples)\n",
    "\n",
    "best = 0.0\n",
    "max_depth = 0\n",
    "min_samples = 0\n",
    "for i in range(1,51,1):\n",
    "    for j in range(10,510,10):\n",
    "        dectree_cl = skl_decTree.DecisionTreeClassifier(max_depth = i, min_samples_leaf=j)\n",
    "        dectree_cl.fit(trans_x2_train, y_train)\n",
    "        s = dectree_cl.score(trans_x2_test, y_test)\n",
    "        if s > best:\n",
    "            best = s\n",
    "            max_depth = i\n",
    "            min_samples = j\n",
    "        \n",
    "print \"trans_x2_test (standartized with categorical):\"\n",
    "print \"Score: {0}\".format(best)\n",
    "print \"Maximum depth: {0}\".format(max_depth)\n",
    "print \"Minimum samples leaf: {0}\".format(min_samples)"
   ]
  },
  {
   "cell_type": "markdown",
   "metadata": {},
   "source": [
    "1) From Score for all experiments it becomes clear that for this task Decision Tree produces more accurate results and is the best for this task."
   ]
  },
  {
   "cell_type": "markdown",
   "metadata": {},
   "source": [
    "2) Standardization (normalization) of data improves Score (accuracy of forecasts) for kNN, in the case of Decision Tree, it does not affect the accuracy of forecasts. This is due to the fact that in kNN data for different characteristics have a different order of values (an abstract example: the growth in mm and weight in kg). As a consequence, the influence of characteristics with a large order of values when calculating distances turns out to be large, although in fact it may not be of very big importance. In the case of Decision Tree, the absolute values of the characteristics are not so important, since these values are simply compared with the constant."
   ]
  },
  {
   "cell_type": "markdown",
   "metadata": {},
   "source": [
    "3) Based on the Score (accuracy of predictions) Decision Tree handles better qualitative characteristics. To use kNN in the presence of qualitative characteristics without normalization of data is a bad idea just for the reason cited above in \"2)\". Qualitative characteristics as a result of hot encoding get the values 0 or 1, and other values have a higher order. As a consequence, the contribution of qualitative characteristics is less, which worsens the accuracy of forecasts"
   ]
  },
  {
   "cell_type": "code",
   "execution_count": null,
   "metadata": {
    "collapsed": true
   },
   "outputs": [],
   "source": []
  }
 ],
 "metadata": {
  "kernelspec": {
   "display_name": "Python 2",
   "language": "python",
   "name": "python2"
  },
  "language_info": {
   "codemirror_mode": {
    "name": "ipython",
    "version": 2
   },
   "file_extension": ".py",
   "mimetype": "text/x-python",
   "name": "python",
   "nbconvert_exporter": "python",
   "pygments_lexer": "ipython2",
   "version": "2.7.10"
  }
 },
 "nbformat": 4,
 "nbformat_minor": 0
}
